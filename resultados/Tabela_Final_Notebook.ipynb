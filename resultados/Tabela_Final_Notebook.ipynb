{
 "cells": [
  {
   "cell_type": "code",
   "execution_count": 1,
   "id": "0a1dd288-b52b-4327-8fd5-e2f4c9ffd5a3",
   "metadata": {
    "execution": {
     "iopub.execute_input": "2022-11-16T03:43:43.755763Z",
     "iopub.status.busy": "2022-11-16T03:43:43.755527Z",
     "iopub.status.idle": "2022-11-16T03:44:21.821802Z",
     "shell.execute_reply": "2022-11-16T03:44:21.820932Z",
     "shell.execute_reply.started": "2022-11-16T03:43:43.755738Z"
    }
   },
   "outputs": [
    {
     "data": {
      "application/vnd.jupyter.widget-view+json": {
       "model_id": "78769a216a634c56a8734e86a8bb9ae6",
       "version_major": 2,
       "version_minor": 0
      },
      "text/plain": [
       "VBox()"
      ]
     },
     "metadata": {},
     "output_type": "display_data"
    },
    {
     "name": "stdout",
     "output_type": "stream",
     "text": [
      "Starting Spark application\n"
     ]
    },
    {
     "data": {
      "text/html": [
       "<table>\n",
       "<tr><th>ID</th><th>YARN Application ID</th><th>Kind</th><th>State</th><th>Spark UI</th><th>Driver log</th><th>User</th><th>Current session?</th></tr><tr><td>0</td><td>application_1668567261244_0001</td><td>pyspark</td><td>idle</td><td><a target=\"_blank\" href=\"http://ip-172-31-74-110.ec2.internal:20888/proxy/application_1668567261244_0001/\" class=\"emr-proxy-link\" emr-resource=\"j-BS4XU95UO45A\n",
       "\" application-id=\"application_1668567261244_0001\">Link</a></td><td><a target=\"_blank\" href=\"http://ip-172-31-67-167.ec2.internal:8042/node/containerlogs/container_1668567261244_0001_01_000001/livy\" >Link</a></td><td>None</td><td>✔</td></tr></table>"
      ],
      "text/plain": [
       "<IPython.core.display.HTML object>"
      ]
     },
     "metadata": {},
     "output_type": "display_data"
    },
    {
     "data": {
      "application/vnd.jupyter.widget-view+json": {
       "model_id": "",
       "version_major": 2,
       "version_minor": 0
      },
      "text/plain": [
       "FloatProgress(value=0.0, bar_style='info', description='Progress:', layout=Layout(height='25px', width='50%'),…"
      ]
     },
     "metadata": {},
     "output_type": "display_data"
    },
    {
     "name": "stdout",
     "output_type": "stream",
     "text": [
      "SparkSession available as 'spark'.\n"
     ]
    },
    {
     "data": {
      "application/vnd.jupyter.widget-view+json": {
       "model_id": "",
       "version_major": 2,
       "version_minor": 0
      },
      "text/plain": [
       "FloatProgress(value=0.0, bar_style='info', description='Progress:', layout=Layout(height='25px', width='50%'),…"
      ]
     },
     "metadata": {},
     "output_type": "display_data"
    }
   ],
   "source": [
    "from pyspark.sql import functions as f\n",
    "from pyspark.sql import SparkSession\n",
    "spark = SparkSession.builder.appName('PySpark_Trabalho_Final').getOrCreate()"
   ]
  },
  {
   "cell_type": "code",
   "execution_count": 2,
   "id": "7ae42585-146f-402e-931d-1e9d2e0a9328",
   "metadata": {
    "execution": {
     "iopub.execute_input": "2022-11-16T03:44:31.954926Z",
     "iopub.status.busy": "2022-11-16T03:44:31.954684Z",
     "iopub.status.idle": "2022-11-16T03:44:41.345309Z",
     "shell.execute_reply": "2022-11-16T03:44:41.344728Z",
     "shell.execute_reply.started": "2022-11-16T03:44:31.954881Z"
    }
   },
   "outputs": [
    {
     "data": {
      "application/vnd.jupyter.widget-view+json": {
       "model_id": "8ab4a101d82145f28db35addff0804bb",
       "version_major": 2,
       "version_minor": 0
      },
      "text/plain": [
       "VBox()"
      ]
     },
     "metadata": {},
     "output_type": "display_data"
    },
    {
     "data": {
      "application/vnd.jupyter.widget-view+json": {
       "model_id": "",
       "version_major": 2,
       "version_minor": 0
      },
      "text/plain": [
       "FloatProgress(value=0.0, bar_style='info', description='Progress:', layout=Layout(height='25px', width='50%'),…"
      ]
     },
     "metadata": {},
     "output_type": "display_data"
    },
    {
     "name": "stdout",
     "output_type": "stream",
     "text": [
      "Tabela Final\n",
      "+-----+----------------+----------------+----------+---------------+\n",
      "|sg_uf|qt_votos_validos|qt_votos_brancos|soma_votos|subtracao_votos|\n",
      "+-----+----------------+----------------+----------+---------------+\n",
      "|   AC|         2406672|           61727|   2468399|        2344945|\n",
      "|   AL|         8151401|          563682|   8715083|        7587719|\n",
      "|   AM|        10269186|          431565|  10700751|        9837621|\n",
      "|   AP|         2113134|           61733|   2174867|        2051401|\n",
      "|   BA|        38247410|         2312275|  40559685|       35935135|\n",
      "|   CE|        25476655|         1735349|  27212004|       23741306|\n",
      "|   DF|         8518689|          633831|   9152520|        7884858|\n",
      "|   ES|        11203060|          797553|  12000613|       10405507|\n",
      "|   GO|        17446321|         1242264|  18688585|       16204057|\n",
      "|   MA|        18195431|         1026988|  19222419|       17168443|\n",
      "|   MG|        56946145|         5056973|  62003118|       51889172|\n",
      "|   MS|         7212449|          524369|   7736818|        6688080|\n",
      "|   MT|         8595589|          613277|   9208866|        7982312|\n",
      "|   PA|        22355490|         1078125|  23433615|       21277365|\n",
      "|   PB|        11258587|          927071|  12185658|       10331516|\n",
      "|   PE|        23368676|         2358986|  25727662|       21009690|\n",
      "|   PI|         9882424|          500603|  10383027|        9381821|\n",
      "|   PR|        31500443|         2663075|  34163518|       28837368|\n",
      "|   RJ|        44439124|         3773799|  48212923|       40665325|\n",
      "|   RN|         9377964|          593295|   9971259|        8784669|\n",
      "+-----+----------------+----------------+----------+---------------+\n",
      "only showing top 20 rows"
     ]
    }
   ],
   "source": [
    "print(\"Tabela Final\")\n",
    "tabela_final = spark.read.parquet(\"s3://jvmg-puc-002112264889/resultado_final/\")\n",
    "tabela_final.show()"
   ]
  },
  {
   "cell_type": "code",
   "execution_count": null,
   "id": "9e3ba885-d968-404d-a515-54041798cc35",
   "metadata": {},
   "outputs": [],
   "source": []
  }
 ],
 "metadata": {
  "kernelspec": {
   "display_name": "PySpark",
   "language": "python",
   "name": "pysparkkernel"
  },
  "language_info": {
   "codemirror_mode": {
    "name": "python",
    "version": 3
   },
   "file_extension": ".py",
   "mimetype": "text/x-python",
   "name": "pyspark",
   "pygments_lexer": "python3"
  }
 },
 "nbformat": 4,
 "nbformat_minor": 5
}
